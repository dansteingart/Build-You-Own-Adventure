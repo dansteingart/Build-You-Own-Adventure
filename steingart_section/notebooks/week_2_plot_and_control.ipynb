{
 "cells": [
  {
   "cell_type": "markdown",
   "metadata": {},
   "source": [
    "# Playing with Data And Photons in Jupyter/Python"
   ]
  },
  {
   "cell_type": "markdown",
   "metadata": {},
   "source": [
    "Here's a notebook to play with the Fridge Photon Setup we built."
   ]
  },
  {
   "cell_type": "markdown",
   "metadata": {},
   "source": [
    "First let's connect to the database: "
   ]
  },
  {
   "cell_type": "code",
   "execution_count": 1,
   "metadata": {},
   "outputs": [],
   "source": [
    "from pymongo import MongoClient as mc\n",
    "cli = mc(\"172.18.0.2\")\n",
    "#make sure your mongo ip is represented correctly\n"
   ]
  },
  {
   "cell_type": "markdown",
   "metadata": {},
   "source": [
    "Now, let's get the right  collection"
   ]
  },
  {
   "cell_type": "code",
   "execution_count": 2,
   "metadata": {},
   "outputs": [],
   "source": [
    "dbs = cli.list_database_names()\n",
    "db = cli['MAE_519_LAB_1']\n",
    "cols = db.list_collection_names()\n",
    "cols.sort()\n",
    "col = db[cols[0]]"
   ]
  },
  {
   "cell_type": "markdown",
   "metadata": {},
   "source": [
    "## Photon Control!"
   ]
  },
  {
   "cell_type": "markdown",
   "metadata": {},
   "source": [
    "To control the photon, we'll wrap a simple function around requests"
   ]
  },
  {
   "cell_type": "code",
   "execution_count": 3,
   "metadata": {},
   "outputs": [],
   "source": [
    "import requests as req\n",
    "\n",
    "ac = \"\" #your PARTICLE token goes here thanks\n",
    "\n",
    "def switch(n,node=cols[0],a=ac):\n",
    "    site = \"https://api.particle.io/v1/devices/%s/set_state\" % node\n",
    "    payload = {'access_token':a,'arg':n}\n",
    "    return req.post(site,payload).json()"
   ]
  },
  {
   "cell_type": "markdown",
   "metadata": {},
   "source": [
    "Now let's make it hot"
   ]
  },
  {
   "cell_type": "code",
   "execution_count": 15,
   "metadata": {},
   "outputs": [
    {
     "data": {
      "text/plain": [
       "{u'connected': True,\n",
       " u'id': u'2f0041000e51353532343635',\n",
       " u'last_app': u'',\n",
       " u'return_value': 1}"
      ]
     },
     "execution_count": 15,
     "metadata": {},
     "output_type": "execute_result"
    }
   ],
   "source": [
    "switch(1)"
   ]
  },
  {
   "cell_type": "markdown",
   "metadata": {},
   "source": [
    "Now let's make it cold"
   ]
  },
  {
   "cell_type": "code",
   "execution_count": 22,
   "metadata": {},
   "outputs": [
    {
     "data": {
      "text/plain": [
       "{u'connected': False,\n",
       " u'id': u'2f0041000e51353532343635',\n",
       " u'last_app': u'',\n",
       " u'return_value': 2}"
      ]
     },
     "execution_count": 22,
     "metadata": {},
     "output_type": "execute_result"
    }
   ],
   "source": [
    "switch(2)"
   ]
  },
  {
   "cell_type": "markdown",
   "metadata": {},
   "source": [
    "Now let's turn it off"
   ]
  },
  {
   "cell_type": "code",
   "execution_count": 6,
   "metadata": {},
   "outputs": [
    {
     "data": {
      "text/plain": [
       "{u'connected': True,\n",
       " u'id': u'2f0041000e51353532343635',\n",
       " u'last_app': u'',\n",
       " u'return_value': 0}"
      ]
     },
     "execution_count": 6,
     "metadata": {},
     "output_type": "execute_result"
    }
   ],
   "source": [
    "switch(0)"
   ]
  },
  {
   "cell_type": "markdown",
   "metadata": {},
   "source": [
    "## Photon Data"
   ]
  },
  {
   "cell_type": "code",
   "execution_count": 7,
   "metadata": {},
   "outputs": [],
   "source": [
    "import pandas as pd\n",
    "import time"
   ]
  },
  {
   "cell_type": "markdown",
   "metadata": {},
   "source": [
    "Import pandas to have a straightforward interface to the data:"
   ]
  },
  {
   "cell_type": "markdown",
   "metadata": {},
   "source": [
    "Structure a query to only get the last two hours of data"
   ]
  },
  {
   "cell_type": "code",
   "execution_count": 8,
   "metadata": {},
   "outputs": [],
   "source": [
    "q = {'time':{'$gt':time.time()-8*60*60}} #2 * 60 minutes * 60 seconds = 2 hour"
   ]
  },
  {
   "cell_type": "markdown",
   "metadata": {},
   "source": [
    "Pull one hour of data into a data frame"
   ]
  },
  {
   "cell_type": "markdown",
   "metadata": {},
   "source": [
    "import libaries for ploting and manipulating data"
   ]
  },
  {
   "cell_type": "code",
   "execution_count": 11,
   "metadata": {},
   "outputs": [],
   "source": [
    "import sys\n",
    "sys.path.append(\"/pithy/code\")\n",
    "from pithy import *\n",
    "%matplotlib inline\n",
    "import matplotlib.dates as mdates\n"
   ]
  },
  {
   "cell_type": "code",
   "execution_count": 10,
   "metadata": {},
   "outputs": [],
   "source": []
  },
  {
   "cell_type": "markdown",
   "metadata": {},
   "source": [
    "Now Let's plot the state and the temperature together...."
   ]
  },
  {
   "cell_type": "code",
   "execution_count": 28,
   "metadata": {},
   "outputs": [
    {
     "name": "stdout",
     "output_type": "stream",
     "text": [
      "TI                                 24.5\n",
      "TO                                  NaN\n",
      "_id            5bae53f76ab9090108a9e65b\n",
      "coreid         2f0041000e51353532343635\n",
      "state                                 2\n",
      "tid                                1651\n",
      "time                        1.53815e+09\n",
      "date      2018-09-28 16:16:55.889473915\n",
      "Name: 1650, dtype: object\n"
     ]
    },
    {
     "data": {
      "text/plain": [
       "Text(0,0.5,'Temperature (C)')"
      ]
     },
     "execution_count": 28,
     "metadata": {},
     "output_type": "execute_result"
    },
    {
     "data": {
      "image/png": "[encoded data removed]",
      "text/plain": [
       "<Figure size 720x720 with 1 Axes>"
      ]
     },
     "metadata": {
      "needs_background": "light"
     },
     "output_type": "display_data"
    }
   ],
   "source": [
    "figure(figsize=(10, 10))\n",
    "df = pd.DataFrame(list(col.find(q)))\n",
    "df['date'] = pd.to_datetime(df['time'],unit='s')\n",
    "plot(df['date'],df['TI'],label=\"Chip Temperature\")\n",
    "plot(df['date'],df['TO'],label=\"Probe Temperature\")\n",
    "xticks(rotation=60)\n",
    "xax = plt.gca().get_xaxis()\n",
    "# format major xtick label\n",
    "xax.set_major_formatter(mdates.DateFormatter('%Y%m%d %H:%M:%S %Z'))\n",
    "\n",
    "##this block needs to be more efficient\n",
    "for i,d in df.iterrows():\n",
    "    if d['state'] == 1:   color = 'red'\n",
    "    elif d['state'] == 2: color = 'blue'\n",
    "    else:                 color = None\n",
    "    if color != None: \n",
    "        axvline(d['date'],0,100,color=color,alpha=.01)\n",
    "print d\n",
    "ylim(0,100)\n",
    "xlabel(\"Date\")\n",
    "ylabel(\"Temperature (C)\")\n",
    "\n"
   ]
  },
  {
   "cell_type": "code",
   "execution_count": null,
   "metadata": {},
   "outputs": [],
   "source": []
  }
 ],
 "metadata": {
  "kernelspec": {
   "display_name": "Python 2",
   "language": "python",
   "name": "python2"
  },
  "language_info": {
   "codemirror_mode": {
    "name": "ipython",
    "version": 2
   },
   "file_extension": ".py",
   "mimetype": "text/x-python",
   "name": "python",
   "nbconvert_exporter": "python",
   "pygments_lexer": "ipython2",
   "version": "2.7.12"
  }
 },
 "nbformat": 4,
 "nbformat_minor": 2
}
